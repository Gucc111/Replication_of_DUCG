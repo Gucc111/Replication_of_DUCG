{
 "cells": [
  {
   "cell_type": "code",
   "execution_count": 1,
   "metadata": {},
   "outputs": [],
   "source": [
    "from src.test_data import g\n",
    "from src.Reasoning import *"
   ]
  },
  {
   "cell_type": "code",
   "execution_count": 2,
   "metadata": {},
   "outputs": [
    {
     "data": {
      "text/plain": [
       "defaultdict(list,\n",
       "            {'B1': ['X3', 'X4', 'X5'],\n",
       "             'B2': ['X3', 'X4', 'X5'],\n",
       "             'X3': ['G8'],\n",
       "             'X4': ['X6'],\n",
       "             'X5': ['G8'],\n",
       "             'G8': ['X7'],\n",
       "             'D9': ['X7'],\n",
       "             'X7': ['X6']})"
      ]
     },
     "execution_count": 2,
     "metadata": {},
     "output_type": "execute_result"
    }
   ],
   "source": [
    "g1 = g._copy_graph()\n",
    "g1.graph_dict"
   ]
  },
  {
   "cell_type": "code",
   "execution_count": 3,
   "metadata": {},
   "outputs": [
    {
     "data": {
      "text/plain": [
       "defaultdict(list, {'B1': ['X4'], 'B2': ['X4']})"
      ]
     },
     "execution_count": 3,
     "metadata": {},
     "output_type": "execute_result"
    }
   ],
   "source": [
    "g1.set_state(\"X4\", 1)\n",
    "g1.update_all_logic_state()\n",
    "\n",
    "sim_g = simplify_graph(g1)\n",
    "sim_g.graph_dict"
   ]
  },
  {
   "cell_type": "code",
   "execution_count": 4,
   "metadata": {},
   "outputs": [
    {
     "name": "stdout",
     "output_type": "stream",
     "text": [
      "初始图: <DUCGGraph: 9 nodes, 12 edges, states={'X4': 1}>\n",
      "Edges:\n",
      "   <DUCGEdge B1->X3>\n",
      "   <DUCGEdge B1->X4>\n",
      "   <DUCGEdge B1->X5>\n",
      "   <DUCGEdge B2->X3>\n",
      "   <DUCGEdge B2->X4>\n",
      "   <DUCGEdge B2->X5, cond={'X3': 1}>\n",
      "   <DUCGEdge X3->G8>\n",
      "   <DUCGEdge X4->X6>\n",
      "   <DUCGEdge X5->G8>\n",
      "   <DUCGEdge G8->X7>\n",
      "   <DUCGEdge D9->X7>\n",
      "   <DUCGEdge X7->X6>\n",
      "\n",
      "化简后图: <DUCGGraph: 3 nodes, 2 edges, states={'X4': 1}>\n",
      "Edges:\n",
      "   <DUCGEdge B1->X4>\n",
      "   <DUCGEdge B2->X4>\n",
      "\n",
      "分解后子图1: <DUCGGraph: 2 nodes, 1 edges, states={'X4': 1}>\n",
      "Edges:\n",
      "   <DUCGEdge B1->X4>\n",
      "\n",
      "分解后子图2: <DUCGGraph: 2 nodes, 1 edges, states={'X4': 1}>\n",
      "Edges:\n",
      "   <DUCGEdge B2->X4>\n"
     ]
    }
   ],
   "source": [
    "results = decompose_by_B(sim_g)\n",
    "\n",
    "print(\"初始图:\", g1)\n",
    "print(\"Edges:\")\n",
    "for ed in g1.edges:\n",
    "    print(\"  \", ed)\n",
    "\n",
    "print(\"\\n化简后图:\", sim_g)\n",
    "print(\"Edges:\")\n",
    "for ed in sim_g.edges:\n",
    "    print(\"  \", ed)\n",
    "\n",
    "for i in range(len(results)):\n",
    "    print(f\"\\n分解后子图{i+1}:\", results[i])\n",
    "    print(\"Edges:\")\n",
    "    for ed in results[i].edges:\n",
    "        print(\"  \", ed)"
   ]
  },
  {
   "cell_type": "code",
   "execution_count": 5,
   "metadata": {},
   "outputs": [
    {
     "data": {
      "text/plain": [
       "(array([0.05204211, 0.02397895]), array([0.68457495, 0.31542505]))"
      ]
     },
     "execution_count": 5,
     "metadata": {},
     "output_type": "execute_result"
    }
   ],
   "source": [
    "calculate_state_sort_probs(results)"
   ]
  },
  {
   "cell_type": "code",
   "execution_count": 6,
   "metadata": {},
   "outputs": [
    {
     "data": {
      "text/plain": [
       "defaultdict(list,\n",
       "            {'B1': ['X3', 'X4', 'X5'],\n",
       "             'B2': ['X3', 'X4', 'X5'],\n",
       "             'X3': ['G8'],\n",
       "             'X4': ['X6'],\n",
       "             'X5': ['G8'],\n",
       "             'G8': ['X7'],\n",
       "             'D9': ['X7'],\n",
       "             'X7': ['X6']})"
      ]
     },
     "execution_count": 6,
     "metadata": {},
     "output_type": "execute_result"
    }
   ],
   "source": [
    "g2 = g._copy_graph()\n",
    "g2.graph_dict"
   ]
  },
  {
   "cell_type": "code",
   "execution_count": 7,
   "metadata": {},
   "outputs": [
    {
     "data": {
      "text/plain": [
       "defaultdict(list, {'X4': ['X6'], 'X7': ['X6']})"
      ]
     },
     "execution_count": 7,
     "metadata": {},
     "output_type": "execute_result"
    }
   ],
   "source": [
    "g2.set_state(\"X6\", 2)\n",
    "g2.update_all_logic_state()\n",
    "\n",
    "sim_g2 = simplify_graph(g2)\n",
    "sim_g2.graph_dict"
   ]
  },
  {
   "cell_type": "code",
   "execution_count": 8,
   "metadata": {},
   "outputs": [
    {
     "name": "stdout",
     "output_type": "stream",
     "text": [
      "\n",
      "化简后图: <DUCGGraph: 3 nodes, 2 edges, states={'X6': 2}>\n",
      "Edges:\n",
      "   <DUCGEdge X4->X6>\n",
      "   <DUCGEdge X7->X6>\n"
     ]
    }
   ],
   "source": [
    "print(\"\\n化简后图:\", sim_g2)\n",
    "print(\"Edges:\")\n",
    "for ed in sim_g2.edges:\n",
    "    print(\"  \", ed)"
   ]
  },
  {
   "cell_type": "code",
   "execution_count": 10,
   "metadata": {},
   "outputs": [
    {
     "data": {
      "text/plain": [
       "[<DUCGEdge B1->X4>, <DUCGEdge B2->X4>]"
      ]
     },
     "execution_count": 10,
     "metadata": {},
     "output_type": "execute_result"
    }
   ],
   "source": [
    "sim_g.edges"
   ]
  }
 ],
 "metadata": {
  "kernelspec": {
   "display_name": "deep_learning",
   "language": "python",
   "name": "python3"
  },
  "language_info": {
   "codemirror_mode": {
    "name": "ipython",
    "version": 3
   },
   "file_extension": ".py",
   "mimetype": "text/x-python",
   "name": "python",
   "nbconvert_exporter": "python",
   "pygments_lexer": "ipython3",
   "version": "3.9.20"
  }
 },
 "nbformat": 4,
 "nbformat_minor": 2
}
