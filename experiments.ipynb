{
 "cells": [
  {
   "cell_type": "code",
   "execution_count": 1,
   "metadata": {},
   "outputs": [],
   "source": [
    "import numpy as np\n",
    "from src.model import *\n",
    "from src.test_data import g"
   ]
  },
  {
   "cell_type": "code",
   "execution_count": null,
   "metadata": {},
   "outputs": [
    {
     "name": "stdout",
     "output_type": "stream",
     "text": [
      "初始图: <DUCGGraph: 6 nodes, 6 edges, states={'X4': 1, 'X6': 2, 'X7': 0}>\n",
      "Edges:\n",
      "   <DUCGEdge B1->X4>\n",
      "   <DUCGEdge B2->X4>\n",
      "   <DUCGEdge B2->X6, cond=X3=1>\n",
      "   <DUCGEdge X4->X6>\n",
      "   <DUCGEdge D9->X7>\n",
      "   <DUCGEdge X7->X6>\n",
      "\n",
      "化简后图: <DUCGGraph: 6 nodes, 3 edges, states={'X4': 1, 'X6': 2, 'X7': 0}>\n",
      "Edges:\n",
      "   <DUCGEdge B1->X4>\n",
      "   <DUCGEdge B2->X4>\n",
      "   <DUCGEdge X4->X6>\n",
      "\n",
      "分解结果:\n",
      "  B=B1, can_explain=True, subgraph edges=3\n",
      "  B=B2, can_explain=True, subgraph edges=3\n",
      "  B=D9, can_explain=False, subgraph edges=3\n"
     ]
    }
   ],
   "source": [
    "print(\"初始图:\", g)\n",
    "print(\"Edges:\")\n",
    "for ed in g.edges:\n",
    "    print(\"  \", ed)\n",
    "\n",
    "g.simplify_graph()\n",
    "\n",
    "print(\"\\n化简后图:\", g)\n",
    "print(\"Edges:\")\n",
    "for ed in g.edges:\n",
    "    print(\"  \", ed)\n",
    "\n",
    "subgraphs = g.decompose_by_B()\n",
    "print(\"\\n分解结果:\")\n",
    "for (b_name, subg, can_exp) in subgraphs:\n",
    "    print(f\"  B={b_name}, can_explain={can_exp}, subgraph edges={len(subg.edges)}\")\n",
    "    '''\n",
    "    if can_exp:\n",
    "        print(\"子图:\", subg)\n",
    "        print(\"Edges:\")\n",
    "        for ed in subg.edges:\n",
    "            print(\"  \", ed)\n",
    "    '''\n"
   ]
  },
  {
   "cell_type": "code",
   "execution_count": 6,
   "metadata": {},
   "outputs": [
    {
     "data": {
      "text/plain": [
       "dict_items([('X4', 1), ('X6', 2), ('X7', 0)])"
      ]
     },
     "execution_count": 6,
     "metadata": {},
     "output_type": "execute_result"
    }
   ],
   "source": [
    "g.state_info.items()"
   ]
  }
 ],
 "metadata": {
  "kernelspec": {
   "display_name": "deep_learning",
   "language": "python",
   "name": "python3"
  },
  "language_info": {
   "codemirror_mode": {
    "name": "ipython",
    "version": 3
   },
   "file_extension": ".py",
   "mimetype": "text/x-python",
   "name": "python",
   "nbconvert_exporter": "python",
   "pygments_lexer": "ipython3",
   "version": "3.9.20"
  }
 },
 "nbformat": 4,
 "nbformat_minor": 2
}
