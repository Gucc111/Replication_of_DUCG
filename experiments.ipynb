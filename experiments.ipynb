{
 "cells": [
  {
   "cell_type": "code",
   "execution_count": 1,
   "metadata": {},
   "outputs": [
    {
     "ename": "ModuleNotFoundError",
     "evalue": "No module named 'model'",
     "output_type": "error",
     "traceback": [
      "\u001b[0;31m---------------------------------------------------------------------------\u001b[0m",
      "\u001b[0;31mModuleNotFoundError\u001b[0m                       Traceback (most recent call last)",
      "Cell \u001b[0;32mIn[1], line 2\u001b[0m\n\u001b[1;32m      1\u001b[0m \u001b[38;5;28;01mfrom\u001b[39;00m \u001b[38;5;21;01msrc\u001b[39;00m\u001b[38;5;21;01m.\u001b[39;00m\u001b[38;5;21;01mtest_data\u001b[39;00m \u001b[38;5;28;01mimport\u001b[39;00m g1\n\u001b[0;32m----> 2\u001b[0m \u001b[38;5;28;01mfrom\u001b[39;00m \u001b[38;5;21;01msrc\u001b[39;00m\u001b[38;5;21;01m.\u001b[39;00m\u001b[38;5;21;01mReasoning\u001b[39;00m \u001b[38;5;28;01mimport\u001b[39;00m \u001b[38;5;241m*\u001b[39m\n",
      "File \u001b[0;32m~/Documents/Codes/Replication_of_DUCG/src/Reasoning.py:1\u001b[0m\n\u001b[0;32m----> 1\u001b[0m \u001b[38;5;28;01mfrom\u001b[39;00m \u001b[38;5;21;01mmodel\u001b[39;00m \u001b[38;5;28;01mimport\u001b[39;00m \u001b[38;5;241m*\u001b[39m\n\u001b[1;32m      2\u001b[0m \u001b[38;5;28;01mfrom\u001b[39;00m \u001b[38;5;21;01mcollections\u001b[39;00m \u001b[38;5;28;01mimport\u001b[39;00m defaultdict, deque\n\u001b[1;32m      4\u001b[0m \u001b[38;5;66;03m# 判断条件有向弧是否成立\u001b[39;00m\n",
      "\u001b[0;31mModuleNotFoundError\u001b[0m: No module named 'model'"
     ]
    }
   ],
   "source": [
    "from src.test_data import g1\n",
    "from src.Reasoning import *"
   ]
  },
  {
   "cell_type": "code",
   "execution_count": 2,
   "metadata": {},
   "outputs": [
    {
     "data": {
      "text/plain": [
       "{'X7': 1, 'X6': 2}"
      ]
     },
     "execution_count": 2,
     "metadata": {},
     "output_type": "execute_result"
    }
   ],
   "source": [
    "g1.state_info"
   ]
  },
  {
   "cell_type": "code",
   "execution_count": 3,
   "metadata": {},
   "outputs": [
    {
     "data": {
      "text/plain": [
       "[<DUCGEdge B1->X3>,\n",
       " <DUCGEdge B1->X4>,\n",
       " <DUCGEdge B2->X4>,\n",
       " <DUCGEdge B2->X5, cond={'X3': 1}>,\n",
       " <DUCGEdge X3->G8>,\n",
       " <DUCGEdge X4->X6>,\n",
       " <DUCGEdge X5->G8>,\n",
       " <DUCGEdge G8->X7>,\n",
       " <DUCGEdge D9->X7>,\n",
       " <DUCGEdge X7->X6>]"
      ]
     },
     "execution_count": 3,
     "metadata": {},
     "output_type": "execute_result"
    }
   ],
   "source": [
    "g1.edges"
   ]
  },
  {
   "cell_type": "code",
   "execution_count": 4,
   "metadata": {},
   "outputs": [
    {
     "data": {
      "text/plain": [
       "defaultdict(list,\n",
       "            {'B1': ['X3', 'X4'],\n",
       "             'B2': ['X4', 'X5'],\n",
       "             'X3': ['G8'],\n",
       "             'X4': ['X6'],\n",
       "             'X5': ['G8'],\n",
       "             'G8': ['X7'],\n",
       "             'D9': ['X7'],\n",
       "             'X7': ['X6']})"
      ]
     },
     "execution_count": 4,
     "metadata": {},
     "output_type": "execute_result"
    }
   ],
   "source": [
    "g1.graph_dict"
   ]
  },
  {
   "cell_type": "code",
   "execution_count": 5,
   "metadata": {},
   "outputs": [],
   "source": [
    "sim_g = simplify_graph(g1)"
   ]
  },
  {
   "cell_type": "code",
   "execution_count": 6,
   "metadata": {},
   "outputs": [
    {
     "data": {
      "text/plain": [
       "defaultdict(list, {'D9': ['X7'], 'X7': ['X6']})"
      ]
     },
     "execution_count": 6,
     "metadata": {},
     "output_type": "execute_result"
    }
   ],
   "source": [
    "sim_g.graph_dict"
   ]
  },
  {
   "cell_type": "code",
   "execution_count": 7,
   "metadata": {},
   "outputs": [],
   "source": [
    "results = decompose_by_B(sim_g)"
   ]
  },
  {
   "cell_type": "code",
   "execution_count": 8,
   "metadata": {},
   "outputs": [
    {
     "name": "stdout",
     "output_type": "stream",
     "text": [
      "初始图: <DUCGGraph: 9 nodes, 10 edges, states={'X7': 1, 'X6': 2}>\n",
      "Edges:\n",
      "   <DUCGEdge B1->X3>\n",
      "   <DUCGEdge B1->X4>\n",
      "   <DUCGEdge B2->X4>\n",
      "   <DUCGEdge B2->X5, cond={'X3': 1}>\n",
      "   <DUCGEdge X3->G8>\n",
      "   <DUCGEdge X4->X6>\n",
      "   <DUCGEdge X5->G8>\n",
      "   <DUCGEdge G8->X7>\n",
      "   <DUCGEdge D9->X7>\n",
      "   <DUCGEdge X7->X6>\n",
      "\n",
      "化简后图: <DUCGGraph: 3 nodes, 2 edges, states={'X7': 1, 'X6': 2}>\n",
      "Edges:\n",
      "   <DUCGEdge D9->X7>\n",
      "   <DUCGEdge X7->X6>\n",
      "\n",
      "分解后子图1: <DUCGGraph: 3 nodes, 2 edges, states={'X7': 1, 'X6': 2}>\n",
      "Edges:\n",
      "   <DUCGEdge D9->X7>\n",
      "   <DUCGEdge X7->X6>\n"
     ]
    }
   ],
   "source": [
    "print(\"初始图:\", g1)\n",
    "print(\"Edges:\")\n",
    "for ed in g1.edges:\n",
    "    print(\"  \", ed)\n",
    "\n",
    "print(\"\\n化简后图:\", sim_g)\n",
    "print(\"Edges:\")\n",
    "for ed in sim_g.edges:\n",
    "    print(\"  \", ed)\n",
    "\n",
    "for i in range(len(results)):\n",
    "    print(f\"\\n分解后子图{i+1}:\", results[i])\n",
    "    print(\"Edges:\")\n",
    "    for ed in results[i].edges:\n",
    "        print(\"  \", ed)"
   ]
  }
 ],
 "metadata": {
  "kernelspec": {
   "display_name": "deep_learning",
   "language": "python",
   "name": "python3"
  },
  "language_info": {
   "codemirror_mode": {
    "name": "ipython",
    "version": 3
   },
   "file_extension": ".py",
   "mimetype": "text/x-python",
   "name": "python",
   "nbconvert_exporter": "python",
   "pygments_lexer": "ipython3",
   "version": "3.9.20"
  }
 },
 "nbformat": 4,
 "nbformat_minor": 2
}
